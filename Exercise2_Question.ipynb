{
  "nbformat": 4,
  "nbformat_minor": 0,
  "metadata": {
    "colab": {
      "name": "Exercise2-Question.ipynb",
      "version": "0.3.2",
      "provenance": [],
      "collapsed_sections": [],
      "include_colab_link": true
    },
    "kernelspec": {
      "name": "python3",
      "display_name": "Python 3"
    }
  },
  "cells": [
    {
      "cell_type": "markdown",
      "metadata": {
        "id": "view-in-github",
        "colab_type": "text"
      },
      "source": [
        "<a href=\"https://colab.research.google.com/github/cjagadis/TensorflowCourseGoogle/blob/master/Exercise2_Question.ipynb\" target=\"_parent\"><img src=\"https://colab.research.google.com/assets/colab-badge.svg\" alt=\"Open In Colab\"/></a>"
      ]
    },
    {
      "metadata": {
        "id": "tOoyQ70H00_s",
        "colab_type": "text"
      },
      "cell_type": "markdown",
      "source": [
        "## Exercise 2\n",
        "In the course you learned how to do classificaiton using Fashion MNIST, a data set containing items of clothing. There's another, similar dataset called MNIST which has items of handwriting -- the digits 0 through 9.\n",
        "\n",
        "Write an MNIST classifier that trains to 99% accuracy or above, and does it without a fixed number of epochs -- i.e. you should stop training once you reach that level of accuracy.\n",
        "\n",
        "Some notes:\n",
        "1. It should succeed in less than 10 epochs, so it is okay to change epochs to 10, but nothing larger\n",
        "2. When it reaches 99% or greater it should print out the string \"Reached 99% accuracy so cancelling training!\"\n",
        "3. If you add any additional variables, make sure you use the same names as the ones used in the class\n",
        "\n",
        "I've started the code for you below -- how would you finish it? "
      ]
    },
    {
      "metadata": {
        "id": "9rvXQGAA0ssC",
        "colab_type": "code",
        "outputId": "ffb3dd5a-baac-4ce2-bbc4-c8991a6c835c",
        "colab": {
          "base_uri": "https://localhost:8080/",
          "height": 437
        }
      },
      "cell_type": "code",
      "source": [
        "# YOUR CODE SHOULD START HERE\n",
        "# YOUR CODE SHOULD END HERE\n",
        "import tensorflow as tf\n",
        "print(tf.__version__)\n",
        "\n",
        "class myCallback(tf.keras.callbacks.Callback):\n",
        "  def on_epoch_end(self, epoch, logs={}):\n",
        "    if(logs.get('acc')>0.99):\n",
        "      print(\"\\nReached 99% accuracy so cancelling training!\")\n",
        "      self.model.stop_training = True\n",
        "\n",
        "callbacks = myCallback()\n",
        "mnist = tf.keras.datasets.mnist\n",
        "\n",
        "(x_train, y_train),(x_test, y_test) = mnist.load_data()\n",
        "# YOUR CODE SHOULD START HERE\n",
        "x_train = x_train/255.0\n",
        "x_test = x_test/255.0\n",
        "\n",
        "# YOUR CODE SHOULD END HERE\n",
        "model = tf.keras.models.Sequential([\n",
        "    tf.keras.layers.Flatten(),\n",
        "    tf.keras.layers.Dense(128, activation=tf.nn.relu),\n",
        "    tf.keras.layers.Dense(26, activation=tf.nn.softmax)\n",
        "])\n",
        "\n",
        "# YOUR CODE SHOULD START HERE\n",
        "model.compile(optimizer='adam', \n",
        "             loss='sparse_categorical_crossentropy',\n",
        "             metrics=['accuracy'])\n",
        "# YOUR CODE SHOULD END HERE\n",
        "model.fit(x_train, y_train, epochs=10,callbacks=[callbacks])\n",
        "\n",
        "# YOUR CODE SHOULD START HERE\n",
        "model.evaluate(x_test, y_test)\n",
        "# YOUR CODE SHOULD END HERE\n",
        "classification = model.predict(x_test)\n",
        "print(classification[15])\n",
        "print(y_test[15])"
      ],
      "execution_count": 0,
      "outputs": [
        {
          "output_type": "stream",
          "text": [
            "1.13.1\n",
            "Epoch 1/10\n",
            "60000/60000 [==============================] - 9s 151us/sample - loss: 0.2762 - acc: 0.9222\n",
            "Epoch 2/10\n",
            "60000/60000 [==============================] - 8s 129us/sample - loss: 0.1208 - acc: 0.9640\n",
            "Epoch 3/10\n",
            "60000/60000 [==============================] - 7s 122us/sample - loss: 0.0821 - acc: 0.9751\n",
            "Epoch 4/10\n",
            "60000/60000 [==============================] - 8s 127us/sample - loss: 0.0631 - acc: 0.9807\n",
            "Epoch 5/10\n",
            "60000/60000 [==============================] - 8s 126us/sample - loss: 0.0476 - acc: 0.9851\n",
            "Epoch 6/10\n",
            "60000/60000 [==============================] - 7s 118us/sample - loss: 0.0378 - acc: 0.9883\n",
            "Epoch 7/10\n",
            "59680/60000 [============================>.] - ETA: 0s - loss: 0.0296 - acc: 0.9906\n",
            "Reached 99% accuracy so cancelling training!\n",
            "60000/60000 [==============================] - 7s 113us/sample - loss: 0.0297 - acc: 0.9906\n",
            "10000/10000 [==============================] - 0s 50us/sample - loss: 0.0731 - acc: 0.9785\n",
            "[9.3667509e-08 1.8223001e-06 4.7597965e-07 6.0356967e-04 1.7976941e-08\n",
            " 9.9937373e-01 5.8707155e-08 3.7282905e-07 1.5350524e-05 4.6065893e-06\n",
            " 5.0399498e-12 4.8929832e-11 3.3806497e-12 2.9535747e-12 1.5483767e-12\n",
            " 4.3856658e-11 1.0874344e-12 1.6155139e-12 4.6071068e-12 1.8207972e-12\n",
            " 1.2013177e-12 8.0443447e-12 2.7289126e-12 7.2668499e-12 1.0406581e-11\n",
            " 3.3864724e-11]\n",
            "5\n"
          ],
          "name": "stdout"
        }
      ]
    },
    {
      "metadata": {
        "id": "nkUArehrsQWW",
        "colab_type": "code",
        "outputId": "c1524b58-1e59-4b74-843e-407e5b8fdfb5",
        "colab": {
          "base_uri": "https://localhost:8080/",
          "height": 1243
        }
      },
      "cell_type": "code",
      "source": [
        "for i in range(10):\n",
        "  print(classification[i])\n",
        "  print(y_test[i])"
      ],
      "execution_count": 0,
      "outputs": [
        {
          "output_type": "stream",
          "text": [
            "[1.53413907e-06 1.09070857e-10 7.83269115e-06 2.91580538e-04\n",
            " 4.15288192e-14 4.24050910e-08 2.45007651e-14 9.99662995e-01\n",
            " 7.48886038e-08 3.59220285e-05 3.17648956e-13 9.84742209e-14\n",
            " 6.49062374e-14 1.34125152e-14 5.56852578e-13 9.25379700e-14\n",
            " 4.56768243e-14 1.18284302e-13 9.61848128e-14 1.07286359e-13\n",
            " 2.71909909e-14 4.77765918e-14 1.70883205e-13 1.60325753e-14\n",
            " 1.05271267e-13 7.53691339e-14]\n",
            "7\n",
            "[4.4622245e-10 1.1129486e-04 9.9988866e-01 4.5356274e-09 6.7602970e-16\n",
            " 4.1801113e-10 1.3163928e-09 8.5554518e-13 1.4528630e-08 1.3215454e-12\n",
            " 2.3050641e-16 2.5478555e-16 2.8897994e-15 4.7627587e-18 5.9787678e-16\n",
            " 6.5525509e-17 3.2324810e-18 1.7964043e-17 8.9354200e-18 4.7878951e-19\n",
            " 1.9024555e-16 1.6696701e-15 5.3353212e-17 7.5591682e-16 5.7707095e-16\n",
            " 2.1482130e-15]\n",
            "2\n",
            "[7.01849174e-08 9.99154687e-01 1.21123325e-04 2.11406558e-07\n",
            " 2.03089046e-04 1.18360676e-05 8.67257677e-06 3.57887940e-04\n",
            " 1.41745462e-04 5.42454359e-07 1.01396924e-09 3.59360630e-09\n",
            " 1.58026792e-09 2.13331894e-10 2.08039794e-10 1.44534718e-09\n",
            " 3.76297771e-10 8.98366892e-09 2.92930369e-09 3.87615495e-09\n",
            " 1.71626457e-09 1.29900313e-09 9.38716771e-10 1.24733435e-09\n",
            " 1.55157487e-09 4.69211603e-09]\n",
            "1\n",
            "[9.9999666e-01 5.6638391e-13 5.2728086e-07 3.3953265e-10 2.5405700e-12\n",
            " 2.8497192e-08 7.7840898e-09 4.6610960e-10 1.1732982e-12 2.7955978e-06\n",
            " 1.4689689e-14 1.0386790e-14 1.9156480e-14 1.1474295e-15 2.7912309e-14\n",
            " 2.1611366e-15 1.0513827e-16 3.8236965e-15 8.8328215e-16 5.0527404e-15\n",
            " 1.0402804e-15 1.9530723e-15 2.5563797e-14 8.4451048e-16 3.1957781e-13\n",
            " 5.1797478e-16]\n",
            "0\n",
            "[8.0799019e-08 1.1158097e-12 6.3385890e-08 1.3736912e-10 9.9984515e-01\n",
            " 9.4836494e-10 1.3690986e-09 1.3187536e-06 1.9793087e-09 1.5332017e-04\n",
            " 3.2396316e-13 1.3393565e-13 4.4945929e-13 1.8217524e-13 3.1750937e-13\n",
            " 4.7453529e-13 1.1959845e-12 2.2362947e-12 1.4972706e-12 1.1794839e-11\n",
            " 2.3971390e-13 4.7538416e-13 2.4001997e-13 8.8030744e-13 5.3562260e-13\n",
            " 1.1250798e-13]\n",
            "4\n",
            "[7.69683484e-10 9.99127567e-01 6.50055938e-07 2.41801268e-09\n",
            " 2.65876461e-05 1.35299807e-08 9.72370451e-09 8.41066125e-04\n",
            " 4.06413255e-06 5.39003437e-08 6.43764881e-13 5.45219685e-12\n",
            " 2.96217738e-12 3.24380280e-13 1.43250483e-13 1.23077254e-12\n",
            " 4.92310186e-13 1.14149029e-11 5.04966685e-12 1.31042868e-11\n",
            " 4.16796415e-12 1.03851194e-12 1.94746628e-12 1.67681743e-12\n",
            " 1.00619740e-12 1.04680535e-11]\n",
            "1\n",
            "[4.7584527e-12 3.4855195e-11 3.4551331e-10 9.1078693e-11 9.9997306e-01\n",
            " 1.1207797e-08 2.0103368e-09 5.1562065e-08 1.2415240e-06 2.5634643e-05\n",
            " 3.7775918e-14 1.4393963e-14 6.5248154e-14 6.4693727e-14 5.4989955e-14\n",
            " 8.7999947e-15 7.3331789e-14 9.8895393e-14 1.3307600e-13 1.1903628e-13\n",
            " 6.3514833e-14 3.4120666e-14 1.3445674e-14 9.2337433e-14 9.0542659e-14\n",
            " 7.2340688e-15]\n",
            "4\n",
            "[1.4872193e-09 2.4621639e-07 1.2038417e-05 1.8153751e-05 2.2421475e-04\n",
            " 1.5983902e-06 2.6573541e-14 1.3414783e-05 8.8676195e-08 9.9973029e-01\n",
            " 1.1811939e-12 2.8037104e-12 3.6745845e-12 1.1789819e-11 3.5577138e-12\n",
            " 5.7098679e-12 2.4157064e-11 1.5738081e-11 8.5271525e-13 6.1870895e-12\n",
            " 1.6343803e-11 2.9873264e-11 1.4729785e-11 5.5420842e-12 5.2139590e-12\n",
            " 2.9155075e-13]\n",
            "9\n",
            "[5.5353422e-07 3.6711448e-10 2.6070838e-05 1.0015552e-05 3.9751330e-04\n",
            " 2.3753731e-01 7.4421924e-01 2.5766022e-07 1.1906218e-02 5.9028030e-03\n",
            " 4.2443608e-11 7.3275218e-13 4.7252736e-11 1.2664839e-11 2.7916347e-10\n",
            " 1.2239599e-11 4.4418779e-12 2.9615383e-11 1.8366036e-11 2.1351444e-10\n",
            " 6.5773532e-12 6.3204099e-12 4.9406850e-11 3.2380675e-11 6.0562257e-11\n",
            " 8.5907991e-12]\n",
            "5\n",
            "[1.0190011e-09 1.6584024e-13 1.5576063e-10 1.8194605e-06 7.2584796e-04\n",
            " 3.9966661e-10 3.1596530e-13 2.9902408e-04 9.7716838e-07 9.9897242e-01\n",
            " 1.2407546e-14 2.1408639e-15 2.4392143e-15 2.3837567e-14 8.2464688e-15\n",
            " 6.8999637e-16 4.1997393e-15 5.6541296e-14 3.6335609e-14 4.9925128e-14\n",
            " 5.9792200e-15 1.2725450e-14 1.0189047e-15 4.6510843e-14 2.0266364e-14\n",
            " 4.0865809e-16]\n",
            "9\n"
          ],
          "name": "stdout"
        }
      ]
    },
    {
      "metadata": {
        "id": "yivKzBOUtIHq",
        "colab_type": "code",
        "colab": {}
      },
      "cell_type": "code",
      "source": [
        ""
      ],
      "execution_count": 0,
      "outputs": []
    }
  ]
}