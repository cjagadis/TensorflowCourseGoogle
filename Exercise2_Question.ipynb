{
  "nbformat": 4,
  "nbformat_minor": 0,
  "metadata": {
    "colab": {
      "name": "Exercise2-Question.ipynb",
      "version": "0.3.2",
      "provenance": [],
      "collapsed_sections": [],
      "include_colab_link": true
    },
    "kernelspec": {
      "name": "python3",
      "display_name": "Python 3"
    }
  },
  "cells": [
    {
      "cell_type": "markdown",
      "metadata": {
        "id": "view-in-github",
        "colab_type": "text"
      },
      "source": [
        "<a href=\"https://colab.research.google.com/github/cjagadis/TensorflowCourseGoogle/blob/master/Exercise2_Question.ipynb\" target=\"_parent\"><img src=\"https://colab.research.google.com/assets/colab-badge.svg\" alt=\"Open In Colab\"/></a>"
      ]
    },
    {
      "metadata": {
        "id": "tOoyQ70H00_s",
        "colab_type": "text"
      },
      "cell_type": "markdown",
      "source": [
        "## Exercise 2\n",
        "In the course you learned how to do classificaiton using Fashion MNIST, a data set containing items of clothing. There's another, similar dataset called MNIST which has items of handwriting -- the digits 0 through 9.\n",
        "\n",
        "Write an MNIST classifier that trains to 99% accuracy or above, and does it without a fixed number of epochs -- i.e. you should stop training once you reach that level of accuracy.\n",
        "\n",
        "Some notes:\n",
        "1. It should succeed in less than 10 epochs, so it is okay to change epochs to 10, but nothing larger\n",
        "2. When it reaches 99% or greater it should print out the string \"Reached 99% accuracy so cancelling training!\"\n",
        "3. If you add any additional variables, make sure you use the same names as the ones used in the class\n",
        "\n",
        "I've started the code for you below -- how would you finish it? "
      ]
    },
    {
      "metadata": {
        "id": "9rvXQGAA0ssC",
        "colab_type": "code",
        "outputId": "c07568af-ecb1-4cab-ab42-b8a084b04f5a",
        "colab": {
          "base_uri": "https://localhost:8080/",
          "height": 521
        }
      },
      "cell_type": "code",
      "source": [
        "# YOUR CODE SHOULD START HERE\n",
        "# YOUR CODE SHOULD END HERE\n",
        "import tensorflow as tf\n",
        "print(tf.__version__)\n",
        "\n",
        "class myCallback(tf.keras.callbacks.Callback):\n",
        "  def epoc_on_end(self, epoch, logs={}):\n",
        "    if (logs.get('loss')<0.1):\n",
        "      print(\"\\nReached 99% accuracy so cancelling training!\")\n",
        "      self.mode.stop_training = True\n",
        "\n",
        "callbacks = myCallback()\n",
        "mnist = tf.keras.datasets.mnist\n",
        "\n",
        "(x_train, y_train),(x_test, y_test) = mnist.load_data()\n",
        "# YOUR CODE SHOULD START HERE\n",
        "x_train = x_train/255.0\n",
        "x_test = x_test/255.0\n",
        "\n",
        "# YOUR CODE SHOULD END HERE\n",
        "model = tf.keras.models.Sequential([\n",
        "    tf.keras.layers.Flatten(),\n",
        "    tf.keras.layers.Dense(128, activation=tf.nn.relu),\n",
        "    tf.keras.layers.Dense(26, activation=tf.nn.softmax)\n",
        "])\n",
        "\n",
        "# YOUR CODE SHOULD START HERE\n",
        "model.compile(optimizer='adam', \n",
        "             loss='sparse_categorical_crossentropy',\n",
        "             metrics=['accuracy'])\n",
        "# YOUR CODE SHOULD END HERE\n",
        "model.fit(x_train, y_train, epochs=10,callbacks=[callbacks])\n",
        "\n",
        "# YOUR CODE SHOULD START HERE\n",
        "model.evaluate(x_test, y_test)\n",
        "# YOUR CODE SHOULD END HERE\n",
        "classification = model.predict(x_test)\n",
        "print(classification[15])\n",
        "print(y_test[15])"
      ],
      "execution_count": 0,
      "outputs": [
        {
          "output_type": "stream",
          "text": [
            "1.13.1\n",
            "Epoch 1/10\n",
            "60000/60000 [==============================] - 9s 153us/sample - loss: 0.2681 - acc: 0.9244\n",
            "Epoch 2/10\n",
            "60000/60000 [==============================] - 7s 122us/sample - loss: 0.1166 - acc: 0.9656\n",
            "Epoch 3/10\n",
            "60000/60000 [==============================] - 7s 124us/sample - loss: 0.0806 - acc: 0.9755\n",
            "Epoch 4/10\n",
            "60000/60000 [==============================] - 8s 127us/sample - loss: 0.0601 - acc: 0.9819\n",
            "Epoch 5/10\n",
            "60000/60000 [==============================] - 8s 131us/sample - loss: 0.0483 - acc: 0.9857\n",
            "Epoch 6/10\n",
            "60000/60000 [==============================] - 7s 121us/sample - loss: 0.0381 - acc: 0.9882\n",
            "Epoch 7/10\n",
            "60000/60000 [==============================] - 7s 121us/sample - loss: 0.0303 - acc: 0.9904\n",
            "Epoch 8/10\n",
            "60000/60000 [==============================] - 7s 122us/sample - loss: 0.0251 - acc: 0.9925\n",
            "Epoch 9/10\n",
            "60000/60000 [==============================] - 8s 131us/sample - loss: 0.0195 - acc: 0.9941\n",
            "Epoch 10/10\n",
            "60000/60000 [==============================] - 7s 123us/sample - loss: 0.0173 - acc: 0.9945\n",
            "10000/10000 [==============================] - 0s 47us/sample - loss: 0.0876 - acc: 0.9781\n",
            "[2.07537373e-12 3.13701864e-12 1.60676871e-11 9.66072321e-07\n",
            " 1.29443985e-16 9.99998927e-01 1.09054453e-10 9.14166854e-13\n",
            " 1.09927974e-07 4.27268707e-11 4.51419493e-17 1.47150018e-16\n",
            " 2.54271826e-16 8.25704869e-16 1.98763378e-17 5.62544822e-17\n",
            " 5.08385329e-18 2.86844611e-16 2.87863916e-17 2.55231707e-18\n",
            " 9.05019963e-18 1.84281838e-16 3.70064559e-18 1.20243763e-17\n",
            " 1.72852634e-18 4.28474222e-18]\n",
            "5\n"
          ],
          "name": "stdout"
        }
      ]
    },
    {
      "metadata": {
        "id": "nkUArehrsQWW",
        "colab_type": "code",
        "outputId": "9d38328f-bffb-4b2a-d95f-e659f1aee0a2",
        "colab": {
          "base_uri": "https://localhost:8080/",
          "height": 1260
        }
      },
      "cell_type": "code",
      "source": [
        "for i in range(10):\n",
        "  print(classification[i])\n",
        "  print(y_test[i])"
      ],
      "execution_count": 0,
      "outputs": [
        {
          "output_type": "stream",
          "text": [
            "[1.65244352e-08 2.87122437e-10 1.18956814e-06 6.17849173e-06\n",
            " 3.04779099e-15 1.56835995e-07 1.10938046e-13 9.99888301e-01\n",
            " 1.03270198e-04 8.04472336e-07 1.29193889e-12 2.34292999e-13\n",
            " 9.03559616e-13 2.55198261e-13 5.27886708e-13 4.89294714e-14\n",
            " 9.17651575e-14 1.68597910e-13 2.61261092e-13 2.76813213e-14\n",
            " 2.82289166e-13 5.06128397e-13 2.70367984e-13 5.27037351e-14\n",
            " 5.94404896e-13 5.98856105e-15]\n",
            "7\n",
            "[1.3169731e-10 5.4206479e-09 1.0000000e+00 2.1994561e-11 4.0248890e-24\n",
            " 5.2422754e-11 1.1902106e-10 6.0191873e-23 9.9225934e-09 1.5433003e-20\n",
            " 1.7148844e-21 1.6523115e-21 3.2416623e-23 4.7831761e-24 1.6040546e-22\n",
            " 6.5127922e-22 4.1704646e-24 3.2850190e-24 2.2511288e-23 3.9156713e-22\n",
            " 5.5365721e-24 7.7433009e-25 1.4992432e-23 1.3705957e-25 2.2393629e-21\n",
            " 2.9869745e-23]\n",
            "2\n",
            "[2.3696023e-08 9.9942601e-01 7.8381781e-06 7.7462474e-08 6.2838863e-06\n",
            " 1.9124166e-06 1.6077237e-07 4.9118345e-05 5.0863985e-04 1.6630501e-08\n",
            " 7.2084935e-11 2.7917875e-11 2.6647910e-11 1.3444056e-11 2.2791076e-11\n",
            " 6.7587806e-12 2.7746515e-11 1.7835126e-11 2.2008072e-11 5.3859524e-11\n",
            " 2.6298597e-11 6.1187457e-12 2.1635400e-11 5.3549564e-11 2.1420733e-11\n",
            " 1.5506188e-11]\n",
            "1\n",
            "[9.9999976e-01 1.9394851e-14 5.6633088e-08 1.4797022e-13 6.8402892e-12\n",
            " 4.8439435e-09 5.4581517e-09 6.9499841e-08 9.6994103e-13 3.4365499e-08\n",
            " 4.4215577e-15 1.7861631e-16 3.7860996e-16 1.2288624e-15 2.8600557e-17\n",
            " 7.9009687e-16 9.0238002e-18 3.2229647e-18 8.7397018e-17 8.5747812e-17\n",
            " 8.8334800e-18 4.0556192e-17 2.6659478e-16 2.4920469e-16 4.9675511e-17\n",
            " 5.2314735e-16]\n",
            "0\n",
            "[4.5505573e-08 1.9636895e-10 1.4633903e-06 1.1763016e-11 9.9973553e-01\n",
            " 1.5225519e-08 9.7426444e-08 3.8288866e-07 2.8916552e-06 2.5954470e-04\n",
            " 6.0223566e-13 1.2385471e-14 8.1517109e-14 1.7650516e-13 4.7836867e-14\n",
            " 3.2474037e-14 1.5891070e-14 9.5427565e-14 1.8407411e-13 1.4451678e-12\n",
            " 2.8068701e-13 7.9154192e-14 6.1764924e-14 2.0917691e-13 6.0739188e-14\n",
            " 1.5591676e-14]\n",
            "4\n",
            "[6.0881850e-10 9.9990511e-01 9.7247588e-09 6.4066823e-09 1.1401884e-06\n",
            " 4.7417208e-09 4.2851583e-10 8.2566032e-05 1.1185154e-05 5.9231864e-10\n",
            " 1.2817976e-14 6.1846577e-15 1.2413257e-14 5.6388686e-15 1.1185263e-14\n",
            " 1.5735698e-15 9.5067251e-15 4.3741175e-15 5.2064943e-15 9.8056202e-15\n",
            " 1.2211348e-14 2.0177231e-15 9.8845255e-15 1.8493513e-14 5.6916866e-15\n",
            " 6.3096467e-15]\n",
            "1\n",
            "[1.76544800e-13 1.23140753e-09 1.74697947e-11 8.81938077e-13\n",
            " 9.99845624e-01 9.93662930e-09 9.49798139e-12 6.44147802e-09\n",
            " 1.15162205e-04 3.91900030e-05 1.03091601e-14 4.43211975e-16\n",
            " 4.47660407e-16 8.85058035e-15 6.87828743e-15 2.26180730e-15\n",
            " 1.85356882e-16 6.49895473e-15 8.46362997e-16 3.10924090e-15\n",
            " 3.47307098e-15 1.38904340e-15 1.08617131e-15 1.46971588e-15\n",
            " 9.06415992e-16 5.10702137e-17]\n",
            "4\n",
            "[4.70783912e-10 2.59252033e-08 4.53453509e-07 6.18931314e-04\n",
            " 1.51780844e-02 3.82537746e-06 3.81860261e-13 4.79695018e-06\n",
            " 7.17042141e-08 9.84193861e-01 3.15983296e-13 1.46285924e-13\n",
            " 1.32962785e-14 1.17479485e-13 2.87646832e-13 8.11481280e-14\n",
            " 6.43997605e-13 1.76274773e-14 4.91925497e-14 1.92617379e-13\n",
            " 9.40789547e-13 3.62648415e-14 3.09250482e-13 1.18242466e-13\n",
            " 7.88885423e-14 8.39588070e-14]\n",
            "9\n",
            "[3.81541847e-11 1.16032748e-12 4.73421314e-05 2.30337283e-09\n",
            " 7.40762744e-07 9.73975420e-01 1.68488435e-02 2.46337109e-12\n",
            " 9.12765879e-03 3.20863478e-08 8.45050213e-15 1.23405926e-17\n",
            " 6.16814940e-15 7.78959292e-17 4.07136081e-17 8.05804783e-16\n",
            " 7.46806715e-17 3.99999398e-16 9.62110738e-16 9.64805696e-14\n",
            " 2.93869801e-15 4.41237892e-17 1.03213897e-15 8.81660250e-17\n",
            " 5.53466447e-15 1.35156060e-15]\n",
            "5\n",
            "[7.8767423e-14 6.6627169e-18 8.6060089e-15 4.2875045e-10 2.4455121e-05\n",
            " 7.2356644e-14 1.8511870e-17 2.2018415e-07 3.3909130e-06 9.9997187e-01\n",
            " 2.5477649e-17 7.6422777e-19 3.1615728e-20 1.5517948e-18 3.9854621e-18\n",
            " 8.5138398e-20 3.1377964e-19 5.6243914e-18 3.8285294e-18 1.6187901e-18\n",
            " 7.3027237e-19 1.1005930e-18 9.1652956e-19 4.9634487e-19 2.6531198e-17\n",
            " 4.7757378e-21]\n",
            "9\n"
          ],
          "name": "stdout"
        }
      ]
    },
    {
      "metadata": {
        "id": "yivKzBOUtIHq",
        "colab_type": "code",
        "colab": {}
      },
      "cell_type": "code",
      "source": [
        ""
      ],
      "execution_count": 0,
      "outputs": []
    }
  ]
}